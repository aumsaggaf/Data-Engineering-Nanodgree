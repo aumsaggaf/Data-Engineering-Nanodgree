{
 "cells": [
  {
   "cell_type": "code",
   "execution_count": null,
   "metadata": {
    "editable": true
   },
   "outputs": [],
   "source": [
    "import configparser\n",
    "from datetime import datetime\n",
    "import os\n",
    "from pyspark.sql import SparkSession\n",
    "from pyspark.sql.functions import udf, col\n",
    "from pyspark.sql.functions import year, month, dayofmonth, hour, weekofyear, date_format\n",
    "from pyspark.sql import functions as F\n",
    "\n",
    "\n",
    "config = configparser.ConfigParser()\n",
    "config.read('dl.cfg')\n",
    "\n",
    "os.environ[\"AWS_ACCESS_KEY_ID\"]= config['AWS']['AWS_ACCESS_KEY_ID']\n",
    "os.environ[\"AWS_SECRET_ACCESS_KEY\"]= config['AWS']['AWS_SECRET_ACCESS_KEY']"
   ]
  },
  {
   "cell_type": "code",
   "execution_count": null,
   "metadata": {
    "editable": true
   },
   "outputs": [],
   "source": [
    "spark = SparkSession.builder\\\n",
    "                     .config(\"spark.jars.packages\",\"org.apache.hadoop:hadoop-aws:2.7.0\")\\\n",
    "                     .getOrCreate()"
   ]
  },
  {
   "cell_type": "code",
   "execution_count": null,
   "metadata": {
    "editable": true
   },
   "outputs": [],
   "source": [
    "input_data = \"s3a://udacity-dend/\"\n",
    "output_data = \"s3a://dend-4th-project/\""
   ]
  },
  {
   "cell_type": "code",
   "execution_count": null,
   "metadata": {
    "editable": true
   },
   "outputs": [],
   "source": [
    "# get filepath to song data file\n",
    "song_data = input_data + 'song_data/A/B/C/*.json'"
   ]
  },
  {
   "cell_type": "code",
   "execution_count": null,
   "metadata": {
    "editable": true
   },
   "outputs": [],
   "source": [
    "# read song data file\n",
    "df = spark.read.json(song_data)"
   ]
  },
  {
   "cell_type": "code",
   "execution_count": null,
   "metadata": {
    "editable": true
   },
   "outputs": [],
   "source": [
    "df.printSchema()\n",
    "df.show(5)"
   ]
  },
  {
   "cell_type": "code",
   "execution_count": null,
   "metadata": {
    "editable": true
   },
   "outputs": [],
   "source": [
    "# extract columns to create songs table\n",
    "songs_table = df.select(\"song_id\", \"title\", \"artist_id\", \"year\", \"duration\").distinct()\n",
    "    \n",
    "# write songs table to parquet files partitioned by year and artist\n",
    "songs_table.write.partitionBy(\"year\", \"artist_id\").parquet(output_data+'songs_table/')\n",
    "\n",
    "songs_table.limit(5).toPandas()"
   ]
  },
  {
   "cell_type": "code",
   "execution_count": null,
   "metadata": {
    "editable": true
   },
   "outputs": [],
   "source": [
    "# extract columns to create artists table\n",
    "artists_table = df.select(\"artist_id\", col(\"artist_name\").alias(\"name\"), col(\"artist_location\").alias(\"location\"), col(\"artist_latitude\").alias(\"latitude\"), col(\"artist_longitude\").alias(\"longitude\")).distinct()\n",
    "    \n",
    "# write artists table to parquet files\n",
    "artists_table.write.parquet(output_data+'artists_table/')\n",
    "\n",
    "artists_table.limit(5).toPandas()"
   ]
  },
  {
   "cell_type": "code",
   "execution_count": null,
   "metadata": {
    "editable": true
   },
   "outputs": [],
   "source": [
    "# get filepath to log data file\n",
    "log_data = input_data + 'log_data/*/*/*.json'\n",
    "\n",
    "# read log data file\n",
    "df = spark.read.json(log_data)"
   ]
  },
  {
   "cell_type": "code",
   "execution_count": null,
   "metadata": {
    "editable": true
   },
   "outputs": [],
   "source": [
    "# filter by actions for song plays\n",
    "df = df.filter(df.page == 'NextSong')\n",
    "\n",
    "# extract columns for users table    \n",
    "users_table = df.select(col(\"userId\").alias(\"user_id\"), col(\"firstName\").alias(\"first_name\"), col(\"lastName\").alias(\"last_name\"), \"gender\", \"level\").distinct()\n",
    "    \n",
    "# write users table to parquet files\n",
    "users_table.write.parquet(output_data+'users_table/')\n",
    "\n",
    "users_table.limit(5).toPandas()"
   ]
  },
  {
   "cell_type": "code",
   "execution_count": null,
   "metadata": {
    "editable": true
   },
   "outputs": [],
   "source": [
    "# create timestamp column from original timestamp column\n",
    "get_timestamp = udf()\n",
    "df = df.withColumn(\n",
    "    \"ts_timestamp\",\n",
    "    F.to_timestamp(F.from_unixtime((col(\"ts\") / 1000) , 'yyyy-MM-dd HH:mm:ss.SSS')).cast(\"Timestamp\"))\n",
    "    \n",
    "# extract columns to create time table\n",
    "time_table = (df.withColumn(\"hour\", hour(col(\"ts_timestamp\")))\n",
    "    .withColumn(\"day\", dayofmonth(col(\"ts_timestamp\")))\n",
    "    .withColumn(\"week\", weekofyear(col(\"ts_timestamp\")))\n",
    "    .withColumn(\"month\", month(col(\"ts_timestamp\")))\n",
    "    .withColumn(\"year\", year(col(\"ts_timestamp\")))\n",
    "    ).select(col(\"ts_timestamp\").alias(\"start_time\"), col(\"hour\"), col(\"day\"), col(\"week\"), col(\"month\"), col(\"year\"), date_format(\"ts_timestamp\", \"EEEE\").alias(\"weekday\"))\n",
    "    \n",
    "# write time table to parquet files partitioned by year and month\n",
    "time_table.write.partitionBy(\"year\", \"month\").parquet(output_data+'time_table/')\n",
    "\n",
    "time_table.limit(5).toPandas()"
   ]
  },
  {
   "cell_type": "code",
   "execution_count": null,
   "metadata": {
    "editable": true
   },
   "outputs": [],
   "source": [
    "# read in song data to use for songplays table\n",
    "song_df = spark.read.parquet(output_data+'songs_table/')\n",
    "\n",
    "# extract columns from joined song and log datasets to create songplays table \n",
    "songplays_table = df.withColumn(\"monthPlay\", month(col(\"ts_timestamp\"))).withColumn(\"yearPlay\", year(col(\"ts_timestamp\"))).withColumn(\"songplay_id\",\n",
    "                                                                                                                              F.monotonically_increasing_id()).join(song_df, song_df.title == df.song).select(\"songplay_id\", col(\"ts_timestamp\").alias(\"start_time\"), col(\"monthPlay\"), col(\"yearPlay\"), col(\"userId\").alias(\"user_id\"), \"level\", \"song_id\", \"artist_id\", col(\"sessionId\").alias(\"session_id\"), \"location\", col(\"userAgent\").alias(\"user_agent\"))\n",
    "\n",
    "# write songplays table to parquet files partitioned by year and month\n",
    "songplays_table.write.partitionBy(\"yearPlay\", \"monthPlay\").parquet(output_data+'songplays_table/')\n",
    "\n",
    "\n",
    "songplays_table.limit(5).toPandas()"
   ]
  },
  {
   "cell_type": "code",
   "execution_count": null,
   "metadata": {
    "editable": true
   },
   "outputs": [],
   "source": []
  }
 ],
 "metadata": {
  "kernelspec": {
   "display_name": "Python 3",
   "language": "python",
   "name": "python3"
  },
  "language_info": {
   "codemirror_mode": {
    "name": "ipython",
    "version": 3
   },
   "file_extension": ".py",
   "mimetype": "text/x-python",
   "name": "python",
   "nbconvert_exporter": "python",
   "pygments_lexer": "ipython3",
   "version": "3.6.3"
  }
 },
 "nbformat": 4,
 "nbformat_minor": 4
}
